{
  "nbformat": 4,
  "nbformat_minor": 0,
  "metadata": {
    "accelerator": "GPU",
    "colab": {
      "name": "ResNet50_TL_DataAug.ipynb",
      "provenance": [],
      "collapsed_sections": []
    },
    "kernelspec": {
      "display_name": "Python 3",
      "name": "python3"
    }
  },
  "cells": [
    {
      "cell_type": "markdown",
      "metadata": {
        "id": "I4YkDwF69JbS"
      },
      "source": [
        "<h1> Image Classification using Transfer Learning and Image Augmentation on ResNet50 </h1>\r\n",
        "Conventional machine learning techniques tries to learn features from the data. However the problem arises if the dataset is not enough to learn the features required for current Image Classification task. One solution is to use **Transfer Learning** that extracts the knowledge while solving one problem and applying it to a different but related task. Another is to augment the data so as to map the dynamics of real world. <br>The architecture used here is ResNet50. Features from ResNet50 are extracted and applied on our augmented dataset of Natural Scenes."
      ]
    },
    {
      "cell_type": "code",
      "metadata": {
        "id": "SFKR1D60S8r5"
      },
      "source": [
        "# necessary imports\r\n",
        "import tensorflow as tf\r\n",
        "from sklearn.datasets import load_files\r\n",
        "import os\r\n",
        "from imutils import paths\r\n",
        "from sklearn.preprocessing import LabelBinarizer\r\n",
        "from tqdm import tqdm\r\n",
        "import collections\r\n",
        "from keras.layers import BatchNormalization, GlobalAveragePooling2D\r\n",
        "from keras.optimizers import Adam, SGD, RMSprop\r\n",
        "import keras\r\n",
        "from keras.layers import Conv2D, Dense, MaxPool2D, Flatten, Dropout\r\n",
        "from keras.models import Sequential\r\n",
        "import sys\r\n",
        "import datetime\r\n",
        "import glob as glob\r\n",
        "from keras.preprocessing.image import ImageDataGenerator, array_to_img, img_to_array, load_img\r\n",
        "import cv2\r\n",
        "from keras.applications.resnet50 import ResNet50\r\n",
        "from keras.models import Model\r\n",
        "from keras.layers import Dense, GlobalAveragePooling2D\r\n",
        "from keras.preprocessing.image import ImageDataGenerator, array_to_img, img_to_array, load_img\r\n",
        "from keras.optimizers import SGD\r\n",
        "import tensorflow\r\n",
        "from keras.callbacks import EarlyStopping\r\n",
        "from keras.callbacks import ModelCheckpoint\r\n",
        "from sklearn.metrics import classification_report, accuracy_score, f1_score\r\n",
        "from tqdm.notebook import tqdm\r\n",
        "from sklearn.metrics import confusion_matrix\r\n",
        "import pandas as pd\r\n",
        "import keras as K\r\n",
        "from keras.models import load_model\r\n",
        "from google.colab import files\r\n",
        "from keras.utils.vis_utils import plot_model\r\n",
        "import matplotlib.pyplot as plt\r\n",
        "%matplotlib inline"
      ],
      "execution_count": 33,
      "outputs": []
    },
    {
      "cell_type": "markdown",
      "metadata": {
        "id": "DPRc44Si9XdW"
      },
      "source": [
        "<h2> Load Dataset </h2>\r\n",
        "Here we will download the Dataset of Natural Scene from kaggel intel-image-classification and unzip it in local colab directory <br><br>"
      ]
    },
    {
      "cell_type": "code",
      "metadata": {
        "colab": {
          "resources": {
            "http://localhost:8080/nbextensions/google.colab/files.js": {
              "data": "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",
              "ok": true,
              "headers": [
                [
                  "content-type",
                  "application/javascript"
                ]
              ],
              "status": 200,
              "status_text": "OK"
            }
          },
          "base_uri": "https://localhost:8080/",
          "height": 93
        },
        "id": "VaKV0MDB1PEm",
        "outputId": "2e2be95a-042f-4002-aca0-0f111813c8a9"
      },
      "source": [
        "#Uploading kaggle.json file\r\n",
        "\r\n",
        "files.upload()"
      ],
      "execution_count": 2,
      "outputs": [
        {
          "output_type": "display_data",
          "data": {
            "text/html": [
              "\n",
              "     <input type=\"file\" id=\"files-16204eb9-1fb3-448c-8405-086a69ca2473\" name=\"files[]\" multiple disabled\n",
              "        style=\"border:none\" />\n",
              "     <output id=\"result-16204eb9-1fb3-448c-8405-086a69ca2473\">\n",
              "      Upload widget is only available when the cell has been executed in the\n",
              "      current browser session. Please rerun this cell to enable.\n",
              "      </output>\n",
              "      <script src=\"/nbextensions/google.colab/files.js\"></script> "
            ],
            "text/plain": [
              "<IPython.core.display.HTML object>"
            ]
          },
          "metadata": {
            "tags": []
          }
        },
        {
          "output_type": "stream",
          "text": [
            "Saving kaggle.json to kaggle.json\n"
          ],
          "name": "stdout"
        },
        {
          "output_type": "execute_result",
          "data": {
            "text/plain": [
              "{'kaggle.json': b'{\"username\":\"aamna27\",\"key\":\"9944f09a800fd209ebde42468fb6f834\"}'}"
            ]
          },
          "metadata": {
            "tags": []
          },
          "execution_count": 2
        }
      ]
    },
    {
      "cell_type": "code",
      "metadata": {
        "id": "cP4JIA0szHdq"
      },
      "source": [
        "! mkdir ~/.kaggle\r\n",
        "! cp kaggle.json ~/.kaggle/\r\n",
        "!chmod 600 /root/.kaggle/kaggle.json"
      ],
      "execution_count": 3,
      "outputs": []
    },
    {
      "cell_type": "code",
      "metadata": {
        "colab": {
          "base_uri": "https://localhost:8080/"
        },
        "id": "cpvessaQ228r",
        "outputId": "3c3b464d-4606-4fc2-ce5a-c1887442007a"
      },
      "source": [
        "!kaggle datasets download -d puneet6060/intel-image-classification"
      ],
      "execution_count": 4,
      "outputs": [
        {
          "output_type": "stream",
          "text": [
            "Downloading intel-image-classification.zip to /content\n",
            " 97% 335M/346M [00:01<00:00, 230MB/s]\n",
            "100% 346M/346M [00:01<00:00, 238MB/s]\n"
          ],
          "name": "stdout"
        }
      ]
    },
    {
      "cell_type": "code",
      "metadata": {
        "id": "cZUfvjq0CgtQ"
      },
      "source": [
        "!unzip intel-image-classification.zip -d Dataset\r\n",
        "!rm -rf /content/intel-image-classification.zip"
      ],
      "execution_count": null,
      "outputs": []
    },
    {
      "cell_type": "code",
      "metadata": {
        "id": "P5YzkTXIVWE2"
      },
      "source": [
        "!rm -rf /content/Dataset/seg_pred\r\n",
        "!unzip Test_data.zip -d Dataset"
      ],
      "execution_count": null,
      "outputs": []
    },
    {
      "cell_type": "code",
      "metadata": {
        "id": "AsUpjO8BPSPd"
      },
      "source": [
        "train_dir = 'Dataset/seg_train/seg_train'\r\n",
        "validate_dir = 'Dataset/seg_test/seg_test'\r\n",
        "test_dir = 'Dataset/seg_pred/seg_pred'\r\n",
        "\r\n",
        "batch_size = 32\r\n",
        "nb_classes = len(glob.glob(train_dir + '/*'))\r\n",
        "\r\n",
        "# get number of images in training directory\r\n",
        "nb_train_samples = 0\r\n",
        "for r, dirs, files in os.walk(train_dir):\r\n",
        "    for dr in dirs:\r\n",
        "        nb_train_samples += len(glob.glob(os.path.join(r, dr + \"/*\")))\r\n",
        "# get number of images in validation directory\r\n",
        "nb_validate_samples = 0\r\n",
        "for r, dirs, files in os.walk(validate_dir):\r\n",
        "    for dr in dirs:\r\n",
        "        nb_validate_samples += len(glob.glob(os.path.join(r, dr + \"/*\")))\r\n",
        "\r\n",
        "nb_test_samples = 0\r\n",
        "for r, dirs, files in os.walk(test_dir):\r\n",
        "    for dr in dirs:\r\n",
        "        nb_test_samples += len(glob.glob(os.path.join(r, dr + \"/*\")))"
      ],
      "execution_count": 11,
      "outputs": []
    },
    {
      "cell_type": "code",
      "metadata": {
        "colab": {
          "base_uri": "https://localhost:8080/"
        },
        "id": "gYZbKFo3N43u",
        "outputId": "7221db59-4b86-4dd5-f29e-1d2b25b3da21"
      },
      "source": [
        "# generate and store training data\r\n",
        "train_generator = train_datagen.flow_from_directory(\r\n",
        "    train_dir,\r\n",
        "    target_size = (32, 32),\r\n",
        "    batch_size = batch_size)\r\n",
        "\r\n",
        "# generate and store validation data\r\n",
        "validate_generator = validate_datagen.flow_from_directory(\r\n",
        "    validate_dir,\r\n",
        "    target_size = (32, 32),\r\n",
        "    batch_size = batch_size)\r\n",
        "\r\n",
        "test_generator = test_datagen.flow_from_directory(\r\n",
        "    test_dir,\r\n",
        "    target_size = (32, 32),\r\n",
        "    batch_size = batch_size)"
      ],
      "execution_count": 12,
      "outputs": [
        {
          "output_type": "stream",
          "text": [
            "Found 14034 images belonging to 6 classes.\n",
            "Found 3000 images belonging to 6 classes.\n",
            "Found 7301 images belonging to 6 classes.\n"
          ],
          "name": "stdout"
        }
      ]
    },
    {
      "cell_type": "markdown",
      "metadata": {
        "id": "umbIVaic9qXz"
      },
      "source": [
        "<h2> Data Augmentation </h2>\r\n",
        "Data preparation is almost always required when working with any data analysis, machine learning, neural network or deep learning models. It becomes even more important to augment data in the case of image recognition. Keras provides the ImageDataGenerator class that defines the configuration for image data preparation and augmentation"
      ]
    },
    {
      "cell_type": "code",
      "metadata": {
        "id": "k_yZUSYgNggC"
      },
      "source": [
        "\r\n",
        "nb_epochs = 20\r\n",
        "batch_size = 32\r\n",
        "# data pre-processing for training\r\n",
        "train_datagen =  ImageDataGenerator(\r\n",
        "    rescale = 1./255,\r\n",
        "    rotation_range = 20,\r\n",
        "    width_shift_range = 0.2,\r\n",
        "    height_shift_range = 0.2,\r\n",
        "    shear_range = 0.2,\r\n",
        "    fill_mode = 'nearest',\r\n",
        "    horizontal_flip = True)\r\n",
        "\r\n",
        "# data pre-processing for validation\r\n",
        "validate_datagen =  ImageDataGenerator(\r\n",
        "    rescale = 1./255,\r\n",
        "    rotation_range = 20,\r\n",
        "    width_shift_range = 0.2,\r\n",
        "    height_shift_range = 0.2,\r\n",
        "    shear_range = 0.2,\r\n",
        "    fill_mode = 'nearest',\r\n",
        "    horizontal_flip = True)\r\n",
        "# data pre-processing for validation\r\n",
        "test_datagen =  ImageDataGenerator(\r\n",
        "    rescale = 1./255,\r\n",
        "    rotation_range = 20,\r\n",
        "    width_shift_range = 0.2,\r\n",
        "    height_shift_range = 0.2,\r\n",
        "    shear_range = 0.2,\r\n",
        "    fill_mode = 'nearest',\r\n",
        "    horizontal_flip = True)"
      ],
      "execution_count": 10,
      "outputs": []
    },
    {
      "cell_type": "code",
      "metadata": {
        "id": "i337ONgNZeyK"
      },
      "source": [
        "\r\n",
        "def res_tl_aug(OPTIMIZER, LEARN_RATE, DECAY, MOMEMTUM, EPOCHS):\r\n",
        "    input_t = K.Input(shape=(32,32,3))\r\n",
        "    res_model = ResNet50(include_top=False,weights='imagenet', input_tensor= input_t)\r\n",
        "    model = K.models.Sequential()\r\n",
        "    model.add(res_model)\r\n",
        "    model.add(K.layers.Flatten())\r\n",
        "    model.add(K.layers.Dense(6, activation='softmax'))\r\n",
        "    \r\n",
        "    for layer in res_model.layers:\r\n",
        "        layer.trainable=(1-True)\r\n",
        "    if OPTIMIZER == \"RMS\":\r\n",
        "      print(OPTIMIZER)\r\n",
        "      LEARN_RATE = 0.001/EPOCHS \r\n",
        "      rms = K.optimizers.RMSprop(LEARN_RATE)\r\n",
        "      model.compile(loss='categorical_crossentropy',metrics=['accuracy'],optimizer=rms)\r\n",
        "    if OPTIMIZER == \"Adam\":\r\n",
        "      print(OPTIMIZER)\r\n",
        "      LEARN_RATE = 0.001/EPOCHS \r\n",
        "      adam = K.optimizers.Adam(LEARN_RATE)\r\n",
        "      model.compile(loss='categorical_crossentropy',metrics=['accuracy'],optimizer=adam)\r\n",
        "    if OPTIMIZER == \"SGD\":\r\n",
        "      print(OPTIMIZER)\r\n",
        "      LEARN_RATE = 0.001/EPOCHS \r\n",
        "      sgd = SGD(lr=LEARN_RATE,  momentum=0.9)\r\n",
        "      model.compile(loss='categorical_crossentropy',metrics=['accuracy'],optimizer=sgd)\r\n",
        "\r\n",
        "    return(model)"
      ],
      "execution_count": 8,
      "outputs": []
    },
    {
      "cell_type": "code",
      "metadata": {
        "colab": {
          "base_uri": "https://localhost:8080/",
          "height": 440
        },
        "id": "n2nZDo7LB7fA",
        "outputId": "4527449e-b4c3-40aa-b8ee-59cf6a56ff7e"
      },
      "source": [
        "res_model_pic = res_tl_aug(\"Adam\", DECAY= 1e-7, MOMEMTUM = 0.9, LEARN_RATE =0.001, EPOCHS =75)\r\n",
        "plot_model(res_model_pic, to_file='Results/RES-AUG-TL-model.png', show_shapes=True)"
      ],
      "execution_count": 35,
      "outputs": [
        {
          "output_type": "stream",
          "text": [
            "Adam\n"
          ],
          "name": "stdout"
        },
        {
          "output_type": "execute_result",
          "data": {
            "image/png": "[encoded data removed]",
            "text/plain": [
              "<IPython.core.display.Image object>"
            ]
          },
          "metadata": {
            "tags": []
          },
          "execution_count": 35
        }
      ]
    },
    {
      "cell_type": "markdown",
      "metadata": {
        "id": "XSh-WqTm-Gzo"
      },
      "source": [
        "Making dictionary to store results of experiments"
      ]
    },
    {
      "cell_type": "code",
      "metadata": {
        "id": "pTjQfsgEw99v"
      },
      "source": [
        "\r\n",
        "all_acc_dict = collections.OrderedDict()\r\n",
        "accdict = {}"
      ],
      "execution_count": 7,
      "outputs": []
    },
    {
      "cell_type": "markdown",
      "metadata": {
        "id": "6yxb2745_BDE"
      },
      "source": [
        "<h2> Compile and Train the Model </h2>\r\n",
        "Using different choices of optimizers, the model is being trained. **Early Stopping** is being used to tackle number of epochs. Each time a better validation accuracy is achieved the model weights are updated in the directory.\r\n"
      ]
    },
    {
      "cell_type": "code",
      "metadata": {
        "id": "6BdAcr4Cwef9"
      },
      "source": [
        "\r\n",
        "es=EarlyStopping(monitor='val_loss', mode='min', verbose=1, patience=5)\r\n",
        "mc = ModelCheckpoint('CheckPoints/ResNet-like-Aug-TL-model.h5', monitor='val_accuracy', mode='max', verbose=1, save_best_only=True)\r\n",
        "\r\n",
        "def training(BATCH_SIZE, EPOCHS, OPTIMIZER, LEARN_RATE, DECAY = 0, MOMEMTUM = 0 ):\r\n",
        "  accdict = {}\r\n",
        "  res = res_tl_aug(OPTIMIZER, DECAY, MOMEMTUM, LEARN_RATE, EPOCHS)\r\n",
        "  H = res.fit_generator(\r\n",
        "    train_generator,\r\n",
        "    epochs = EPOCHS,\r\n",
        "    # samples_per_epoch = nb_train_samples,\r\n",
        "    validation_data = validate_generator,\r\n",
        "    callbacks=[es,mc])\r\n",
        "  trainacc = H.history['accuracy']\r\n",
        "  valacc = H.history['val_accuracy']\r\n",
        "  trainloss = H.history['loss']\r\n",
        "  valloss = H.history['val_loss']\r\n",
        "  score = res.evaluate_generator(test_generator)\r\n",
        "  accdict[\"trainacc\"] =trainacc[len(trainacc)-1]\r\n",
        "  accdict[\"trainloss\"] =trainloss[len(trainloss)-1]\r\n",
        "  accdict[\"valacc\"] = valacc[len(valacc)-1]\r\n",
        "  accdict[\"valloss\"] = valloss[len(valloss)-1]\r\n",
        "  accdict[\"testacc\"] = score[1]\r\n",
        "  accdict[\"testloss\"] = score[0]\r\n",
        "  \r\n",
        "  return H, accdict"
      ],
      "execution_count": 13,
      "outputs": []
    },
    {
      "cell_type": "code",
      "metadata": {
        "colab": {
          "base_uri": "https://localhost:8080/"
        },
        "id": "hSixzD6-xGlj",
        "outputId": "9e5e5603-381d-4b52-afa5-4895bb979460"
      },
      "source": [
        "\r\n",
        "History1, all_acc_dict[\"Adam_Exp1\"] = training(32, 25, \"Adam\", 0.001)\r\n",
        "\r\n",
        "History2, all_acc_dict[\"Adam_Exp2\"] = training(64, 25, \"Adam\", 0.001)\r\n",
        "History3, all_acc_dict[\"Adam_Exp3\"] = training(128, 25,\"Adam\", 0.001) \r\n",
        "History4, all_acc_dict[\"SGD_Exp1\"] = training(32, 25, \"SGD\", 0.001)\r\n",
        "\r\n",
        "History5, all_acc_dict[\"SGD_Exp2\"] = training(64, 25, \"SGD\", 0.001)\r\n",
        "History6, all_acc_dict[\"SGD_Exp3\"] = training(128, 25,\"SGD\", 0.001) \r\n",
        "History7, all_acc_dict[\"RMS_Exp1\"] = training(32, 25, \"RMS\", 0.001)\r\n",
        "\r\n",
        "History8, all_acc_dict[\"RMS_Exp2\"] = training(64, 25, \"RMS\", 0.001)\r\n",
        "History9, all_acc_dict[\"RMS_Exp3\"] = training(128, 25,\"RMS\", 0.001) "
      ],
      "execution_count": 15,
      "outputs": [
        {
          "output_type": "stream",
          "text": [
            "Adam\n",
            "Epoch 1/25\n"
          ],
          "name": "stdout"
        },
        {
          "output_type": "stream",
          "text": [
            "/usr/local/lib/python3.6/dist-packages/tensorflow/python/keras/engine/training.py:1844: UserWarning: `Model.fit_generator` is deprecated and will be removed in a future version. Please use `Model.fit`, which supports generators.\n",
            "  warnings.warn('`Model.fit_generator` is deprecated and '\n"
          ],
          "name": "stderr"
        },
        {
          "output_type": "stream",
          "text": [
            "439/439 [==============================] - 26s 53ms/step - loss: 1.9336 - accuracy: 0.1754 - val_loss: 1.7598 - val_accuracy: 0.2450\n",
            "\n",
            "Epoch 00001: val_accuracy did not improve from 0.44733\n",
            "Epoch 2/25\n",
            "439/439 [==============================] - 23s 52ms/step - loss: 1.7518 - accuracy: 0.2612 - val_loss: 1.7165 - val_accuracy: 0.2603\n",
            "\n",
            "Epoch 00002: val_accuracy did not improve from 0.44733\n",
            "Epoch 3/25\n",
            "439/439 [==============================] - 23s 52ms/step - loss: 1.7076 - accuracy: 0.2958 - val_loss: 1.6841 - val_accuracy: 0.3067\n",
            "\n",
            "Epoch 00003: val_accuracy did not improve from 0.44733\n",
            "Epoch 4/25\n",
            "439/439 [==============================] - 23s 52ms/step - loss: 1.6743 - accuracy: 0.3209 - val_loss: 1.6519 - val_accuracy: 0.3560\n",
            "\n",
            "Epoch 00004: val_accuracy did not improve from 0.44733\n",
            "Epoch 5/25\n",
            "439/439 [==============================] - 23s 51ms/step - loss: 1.6435 - accuracy: 0.3569 - val_loss: 1.6309 - val_accuracy: 0.3317\n",
            "\n",
            "Epoch 00005: val_accuracy did not improve from 0.44733\n",
            "Epoch 6/25\n",
            "439/439 [==============================] - 22s 51ms/step - loss: 1.6189 - accuracy: 0.3648 - val_loss: 1.6055 - val_accuracy: 0.3793\n",
            "\n",
            "Epoch 00006: val_accuracy did not improve from 0.44733\n",
            "Epoch 7/25\n",
            "439/439 [==============================] - 23s 52ms/step - loss: 1.6007 - accuracy: 0.3773 - val_loss: 1.5935 - val_accuracy: 0.3670\n",
            "\n",
            "Epoch 00007: val_accuracy did not improve from 0.44733\n",
            "Epoch 8/25\n",
            "439/439 [==============================] - 23s 51ms/step - loss: 1.5786 - accuracy: 0.3852 - val_loss: 1.5792 - val_accuracy: 0.3647\n",
            "\n",
            "Epoch 00008: val_accuracy did not improve from 0.44733\n",
            "Epoch 9/25\n",
            "439/439 [==============================] - 23s 51ms/step - loss: 1.5587 - accuracy: 0.4001 - val_loss: 1.5592 - val_accuracy: 0.3783\n",
            "\n",
            "Epoch 00009: val_accuracy did not improve from 0.44733\n",
            "Epoch 10/25\n",
            "439/439 [==============================] - 23s 51ms/step - loss: 1.5437 - accuracy: 0.4043 - val_loss: 1.5394 - val_accuracy: 0.3870\n",
            "\n",
            "Epoch 00010: val_accuracy did not improve from 0.44733\n",
            "Epoch 11/25\n",
            "439/439 [==============================] - 23s 52ms/step - loss: 1.5354 - accuracy: 0.4029 - val_loss: 1.5400 - val_accuracy: 0.3903\n",
            "\n",
            "Epoch 00011: val_accuracy did not improve from 0.44733\n",
            "Epoch 12/25\n",
            "439/439 [==============================] - 22s 51ms/step - loss: 1.5286 - accuracy: 0.4088 - val_loss: 1.5224 - val_accuracy: 0.4077\n",
            "\n",
            "Epoch 00012: val_accuracy did not improve from 0.44733\n",
            "Epoch 13/25\n",
            "439/439 [==============================] - 23s 51ms/step - loss: 1.5094 - accuracy: 0.4128 - val_loss: 1.5153 - val_accuracy: 0.4080\n",
            "\n",
            "Epoch 00013: val_accuracy did not improve from 0.44733\n",
            "Epoch 14/25\n",
            "439/439 [==============================] - 23s 52ms/step - loss: 1.4984 - accuracy: 0.4256 - val_loss: 1.4996 - val_accuracy: 0.4173\n",
            "\n",
            "Epoch 00014: val_accuracy did not improve from 0.44733\n",
            "Epoch 15/25\n",
            "439/439 [==============================] - 22s 51ms/step - loss: 1.4912 - accuracy: 0.4256 - val_loss: 1.5008 - val_accuracy: 0.4053\n",
            "\n",
            "Epoch 00015: val_accuracy did not improve from 0.44733\n",
            "Epoch 16/25\n",
            "439/439 [==============================] - 22s 51ms/step - loss: 1.4807 - accuracy: 0.4258 - val_loss: 1.4833 - val_accuracy: 0.4163\n",
            "\n",
            "Epoch 00016: val_accuracy did not improve from 0.44733\n",
            "Epoch 17/25\n",
            "439/439 [==============================] - 23s 51ms/step - loss: 1.4755 - accuracy: 0.4326 - val_loss: 1.4941 - val_accuracy: 0.4153\n",
            "\n",
            "Epoch 00017: val_accuracy did not improve from 0.44733\n",
            "Epoch 18/25\n",
            "439/439 [==============================] - 23s 52ms/step - loss: 1.4641 - accuracy: 0.4319 - val_loss: 1.4702 - val_accuracy: 0.4220\n",
            "\n",
            "Epoch 00018: val_accuracy did not improve from 0.44733\n",
            "Epoch 19/25\n",
            "439/439 [==============================] - 23s 51ms/step - loss: 1.4619 - accuracy: 0.4376 - val_loss: 1.4696 - val_accuracy: 0.4340\n",
            "\n",
            "Epoch 00019: val_accuracy did not improve from 0.44733\n",
            "Epoch 20/25\n",
            "439/439 [==============================] - 23s 52ms/step - loss: 1.4467 - accuracy: 0.4332 - val_loss: 1.4665 - val_accuracy: 0.4293\n",
            "\n",
            "Epoch 00020: val_accuracy did not improve from 0.44733\n",
            "Epoch 21/25\n",
            "439/439 [==============================] - 23s 52ms/step - loss: 1.4484 - accuracy: 0.4411 - val_loss: 1.4575 - val_accuracy: 0.4357\n",
            "\n",
            "Epoch 00021: val_accuracy did not improve from 0.44733\n",
            "Epoch 22/25\n",
            "439/439 [==============================] - 22s 51ms/step - loss: 1.4343 - accuracy: 0.4540 - val_loss: 1.4550 - val_accuracy: 0.4260\n",
            "\n",
            "Epoch 00022: val_accuracy did not improve from 0.44733\n",
            "Epoch 23/25\n",
            "439/439 [==============================] - 23s 52ms/step - loss: 1.4423 - accuracy: 0.4433 - val_loss: 1.4548 - val_accuracy: 0.4263\n",
            "\n",
            "Epoch 00023: val_accuracy did not improve from 0.44733\n",
            "Epoch 24/25\n",
            "439/439 [==============================] - 23s 52ms/step - loss: 1.4209 - accuracy: 0.4544 - val_loss: 1.4540 - val_accuracy: 0.4240\n",
            "\n",
            "Epoch 00024: val_accuracy did not improve from 0.44733\n",
            "Epoch 25/25\n",
            "439/439 [==============================] - 22s 51ms/step - loss: 1.4265 - accuracy: 0.4442 - val_loss: 1.4371 - val_accuracy: 0.4323\n",
            "\n",
            "Epoch 00025: val_accuracy did not improve from 0.44733\n"
          ],
          "name": "stdout"
        },
        {
          "output_type": "stream",
          "text": [
            "/usr/local/lib/python3.6/dist-packages/tensorflow/python/keras/engine/training.py:1877: UserWarning: `Model.evaluate_generator` is deprecated and will be removed in a future version. Please use `Model.evaluate`, which supports generators.\n",
            "  warnings.warn('`Model.evaluate_generator` is deprecated and '\n"
          ],
          "name": "stderr"
        },
        {
          "output_type": "stream",
          "text": [
            "Adam\n",
            "Epoch 1/25\n",
            "439/439 [==============================] - 26s 53ms/step - loss: 2.0999 - accuracy: 0.1676 - val_loss: 1.7802 - val_accuracy: 0.1673\n",
            "\n",
            "Epoch 00001: val_accuracy did not improve from 0.44733\n",
            "Epoch 2/25\n",
            "439/439 [==============================] - 22s 51ms/step - loss: 1.7733 - accuracy: 0.1991 - val_loss: 1.7373 - val_accuracy: 0.2293\n",
            "\n",
            "Epoch 00002: val_accuracy did not improve from 0.44733\n",
            "Epoch 3/25\n",
            "439/439 [==============================] - 23s 51ms/step - loss: 1.7306 - accuracy: 0.2535 - val_loss: 1.7014 - val_accuracy: 0.2963\n",
            "\n",
            "Epoch 00003: val_accuracy did not improve from 0.44733\n",
            "Epoch 4/25\n",
            "439/439 [==============================] - 22s 51ms/step - loss: 1.6923 - accuracy: 0.3050 - val_loss: 1.6776 - val_accuracy: 0.3220\n",
            "\n",
            "Epoch 00004: val_accuracy did not improve from 0.44733\n",
            "Epoch 5/25\n",
            "439/439 [==============================] - 22s 51ms/step - loss: 1.6630 - accuracy: 0.3374 - val_loss: 1.6482 - val_accuracy: 0.3707\n",
            "\n",
            "Epoch 00005: val_accuracy did not improve from 0.44733\n",
            "Epoch 6/25\n",
            "439/439 [==============================] - 23s 51ms/step - loss: 1.6348 - accuracy: 0.3625 - val_loss: 1.6262 - val_accuracy: 0.3583\n",
            "\n",
            "Epoch 00006: val_accuracy did not improve from 0.44733\n",
            "Epoch 7/25\n",
            "439/439 [==============================] - 23s 51ms/step - loss: 1.6130 - accuracy: 0.3817 - val_loss: 1.6037 - val_accuracy: 0.3803\n",
            "\n",
            "Epoch 00007: val_accuracy did not improve from 0.44733\n",
            "Epoch 8/25\n",
            "439/439 [==============================] - 22s 51ms/step - loss: 1.5929 - accuracy: 0.4001 - val_loss: 1.5850 - val_accuracy: 0.4163\n",
            "\n",
            "Epoch 00008: val_accuracy did not improve from 0.44733\n",
            "Epoch 9/25\n",
            "439/439 [==============================] - 23s 51ms/step - loss: 1.5738 - accuracy: 0.4054 - val_loss: 1.5676 - val_accuracy: 0.4063\n",
            "\n",
            "Epoch 00009: val_accuracy did not improve from 0.44733\n",
            "Epoch 10/25\n",
            "439/439 [==============================] - 23s 52ms/step - loss: 1.5618 - accuracy: 0.4132 - val_loss: 1.5553 - val_accuracy: 0.4257\n",
            "\n",
            "Epoch 00010: val_accuracy did not improve from 0.44733\n",
            "Epoch 11/25\n",
            "439/439 [==============================] - 23s 51ms/step - loss: 1.5478 - accuracy: 0.4216 - val_loss: 1.5462 - val_accuracy: 0.4130\n",
            "\n",
            "Epoch 00011: val_accuracy did not improve from 0.44733\n",
            "Epoch 12/25\n",
            "439/439 [==============================] - 22s 51ms/step - loss: 1.5396 - accuracy: 0.4130 - val_loss: 1.5397 - val_accuracy: 0.4083\n",
            "\n",
            "Epoch 00012: val_accuracy did not improve from 0.44733\n",
            "Epoch 13/25\n",
            "439/439 [==============================] - 22s 51ms/step - loss: 1.5182 - accuracy: 0.4219 - val_loss: 1.5196 - val_accuracy: 0.4313\n",
            "\n",
            "Epoch 00013: val_accuracy did not improve from 0.44733\n",
            "Epoch 14/25\n",
            "439/439 [==============================] - 22s 51ms/step - loss: 1.5046 - accuracy: 0.4363 - val_loss: 1.5091 - val_accuracy: 0.4237\n",
            "\n",
            "Epoch 00014: val_accuracy did not improve from 0.44733\n",
            "Epoch 15/25\n",
            "439/439 [==============================] - 22s 51ms/step - loss: 1.5023 - accuracy: 0.4274 - val_loss: 1.5011 - val_accuracy: 0.4197\n",
            "\n",
            "Epoch 00015: val_accuracy did not improve from 0.44733\n",
            "Epoch 16/25\n",
            "439/439 [==============================] - 22s 51ms/step - loss: 1.4782 - accuracy: 0.4440 - val_loss: 1.4945 - val_accuracy: 0.4127\n",
            "\n",
            "Epoch 00016: val_accuracy did not improve from 0.44733\n",
            "Epoch 17/25\n",
            "439/439 [==============================] - 22s 51ms/step - loss: 1.4783 - accuracy: 0.4409 - val_loss: 1.4859 - val_accuracy: 0.4327\n",
            "\n",
            "Epoch 00017: val_accuracy did not improve from 0.44733\n",
            "Epoch 18/25\n",
            "439/439 [==============================] - 22s 51ms/step - loss: 1.4761 - accuracy: 0.4341 - val_loss: 1.4795 - val_accuracy: 0.4417\n",
            "\n",
            "Epoch 00018: val_accuracy did not improve from 0.44733\n",
            "Epoch 19/25\n",
            "439/439 [==============================] - 22s 51ms/step - loss: 1.4689 - accuracy: 0.4438 - val_loss: 1.4726 - val_accuracy: 0.4470\n",
            "\n",
            "Epoch 00019: val_accuracy did not improve from 0.44733\n",
            "Epoch 20/25\n",
            "439/439 [==============================] - 22s 51ms/step - loss: 1.4537 - accuracy: 0.4525 - val_loss: 1.4611 - val_accuracy: 0.4410\n",
            "\n",
            "Epoch 00020: val_accuracy did not improve from 0.44733\n",
            "Epoch 21/25\n",
            "439/439 [==============================] - 22s 51ms/step - loss: 1.4551 - accuracy: 0.4490 - val_loss: 1.4665 - val_accuracy: 0.4347\n",
            "\n",
            "Epoch 00021: val_accuracy did not improve from 0.44733\n",
            "Epoch 22/25\n",
            "439/439 [==============================] - 23s 51ms/step - loss: 1.4549 - accuracy: 0.4436 - val_loss: 1.4561 - val_accuracy: 0.4400\n",
            "\n",
            "Epoch 00022: val_accuracy did not improve from 0.44733\n",
            "Epoch 23/25\n",
            "439/439 [==============================] - 22s 50ms/step - loss: 1.4425 - accuracy: 0.4461 - val_loss: 1.4497 - val_accuracy: 0.4337\n",
            "\n",
            "Epoch 00023: val_accuracy did not improve from 0.44733\n",
            "Epoch 24/25\n",
            "439/439 [==============================] - 22s 51ms/step - loss: 1.4384 - accuracy: 0.4481 - val_loss: 1.4393 - val_accuracy: 0.4347\n",
            "\n",
            "Epoch 00024: val_accuracy did not improve from 0.44733\n",
            "Epoch 25/25\n",
            "439/439 [==============================] - 22s 51ms/step - loss: 1.4363 - accuracy: 0.4434 - val_loss: 1.4387 - val_accuracy: 0.4400\n",
            "\n",
            "Epoch 00025: val_accuracy did not improve from 0.44733\n",
            "Adam\n",
            "Epoch 1/25\n",
            "439/439 [==============================] - 26s 53ms/step - loss: 2.0404 - accuracy: 0.1854 - val_loss: 1.7585 - val_accuracy: 0.2037\n",
            "\n",
            "Epoch 00001: val_accuracy did not improve from 0.44733\n",
            "Epoch 2/25\n",
            "439/439 [==============================] - 23s 52ms/step - loss: 1.7476 - accuracy: 0.2374 - val_loss: 1.7218 - val_accuracy: 0.2920\n",
            "\n",
            "Epoch 00002: val_accuracy did not improve from 0.44733\n",
            "Epoch 3/25\n",
            "439/439 [==============================] - 23s 52ms/step - loss: 1.7086 - accuracy: 0.2976 - val_loss: 1.6838 - val_accuracy: 0.2817\n",
            "\n",
            "Epoch 00003: val_accuracy did not improve from 0.44733\n",
            "Epoch 4/25\n",
            "439/439 [==============================] - 23s 52ms/step - loss: 1.6765 - accuracy: 0.3065 - val_loss: 1.6628 - val_accuracy: 0.3100\n",
            "\n",
            "Epoch 00004: val_accuracy did not improve from 0.44733\n",
            "Epoch 5/25\n",
            "439/439 [==============================] - 23s 51ms/step - loss: 1.6489 - accuracy: 0.3433 - val_loss: 1.6323 - val_accuracy: 0.3533\n",
            "\n",
            "Epoch 00005: val_accuracy did not improve from 0.44733\n",
            "Epoch 6/25\n",
            "439/439 [==============================] - 23s 52ms/step - loss: 1.6229 - accuracy: 0.3682 - val_loss: 1.6165 - val_accuracy: 0.3660\n",
            "\n",
            "Epoch 00006: val_accuracy did not improve from 0.44733\n",
            "Epoch 7/25\n",
            "439/439 [==============================] - 23s 52ms/step - loss: 1.6003 - accuracy: 0.3828 - val_loss: 1.5940 - val_accuracy: 0.3613\n",
            "\n",
            "Epoch 00007: val_accuracy did not improve from 0.44733\n",
            "Epoch 8/25\n",
            "439/439 [==============================] - 23s 52ms/step - loss: 1.5822 - accuracy: 0.3887 - val_loss: 1.5781 - val_accuracy: 0.3820\n",
            "\n",
            "Epoch 00008: val_accuracy did not improve from 0.44733\n",
            "Epoch 9/25\n",
            "439/439 [==============================] - 23s 52ms/step - loss: 1.5635 - accuracy: 0.3918 - val_loss: 1.5736 - val_accuracy: 0.3837\n",
            "\n",
            "Epoch 00009: val_accuracy did not improve from 0.44733\n",
            "Epoch 10/25\n",
            "439/439 [==============================] - 23s 52ms/step - loss: 1.5494 - accuracy: 0.4139 - val_loss: 1.5593 - val_accuracy: 0.3987\n",
            "\n",
            "Epoch 00010: val_accuracy did not improve from 0.44733\n",
            "Epoch 11/25\n",
            "439/439 [==============================] - 23s 52ms/step - loss: 1.5393 - accuracy: 0.4115 - val_loss: 1.5476 - val_accuracy: 0.3790\n",
            "\n",
            "Epoch 00011: val_accuracy did not improve from 0.44733\n",
            "Epoch 12/25\n",
            "439/439 [==============================] - 23s 52ms/step - loss: 1.5280 - accuracy: 0.4097 - val_loss: 1.5214 - val_accuracy: 0.4160\n",
            "\n",
            "Epoch 00012: val_accuracy did not improve from 0.44733\n",
            "Epoch 13/25\n",
            "439/439 [==============================] - 23s 52ms/step - loss: 1.5172 - accuracy: 0.4227 - val_loss: 1.5129 - val_accuracy: 0.4260\n",
            "\n",
            "Epoch 00013: val_accuracy did not improve from 0.44733\n",
            "Epoch 14/25\n",
            "439/439 [==============================] - 22s 51ms/step - loss: 1.5000 - accuracy: 0.4327 - val_loss: 1.5168 - val_accuracy: 0.4093\n",
            "\n",
            "Epoch 00014: val_accuracy did not improve from 0.44733\n",
            "Epoch 15/25\n",
            "439/439 [==============================] - 23s 52ms/step - loss: 1.4983 - accuracy: 0.4241 - val_loss: 1.5037 - val_accuracy: 0.4270\n",
            "\n",
            "Epoch 00015: val_accuracy did not improve from 0.44733\n",
            "Epoch 16/25\n",
            "439/439 [==============================] - 23s 52ms/step - loss: 1.4865 - accuracy: 0.4260 - val_loss: 1.4988 - val_accuracy: 0.4230\n",
            "\n",
            "Epoch 00016: val_accuracy did not improve from 0.44733\n",
            "Epoch 17/25\n",
            "439/439 [==============================] - 23s 51ms/step - loss: 1.4800 - accuracy: 0.4260 - val_loss: 1.4941 - val_accuracy: 0.4280\n",
            "\n",
            "Epoch 00017: val_accuracy did not improve from 0.44733\n",
            "Epoch 18/25\n",
            "439/439 [==============================] - 23s 52ms/step - loss: 1.4817 - accuracy: 0.4254 - val_loss: 1.4769 - val_accuracy: 0.4290\n",
            "\n",
            "Epoch 00018: val_accuracy did not improve from 0.44733\n",
            "Epoch 19/25\n",
            "439/439 [==============================] - 23s 52ms/step - loss: 1.4699 - accuracy: 0.4316 - val_loss: 1.4837 - val_accuracy: 0.4153\n",
            "\n",
            "Epoch 00019: val_accuracy did not improve from 0.44733\n",
            "Epoch 20/25\n",
            "439/439 [==============================] - 23s 52ms/step - loss: 1.4590 - accuracy: 0.4325 - val_loss: 1.4796 - val_accuracy: 0.4183\n",
            "\n",
            "Epoch 00020: val_accuracy did not improve from 0.44733\n",
            "Epoch 21/25\n",
            "439/439 [==============================] - 23s 52ms/step - loss: 1.4477 - accuracy: 0.4460 - val_loss: 1.4769 - val_accuracy: 0.4143\n",
            "\n",
            "Epoch 00021: val_accuracy did not improve from 0.44733\n",
            "Epoch 22/25\n",
            "439/439 [==============================] - 23s 51ms/step - loss: 1.4516 - accuracy: 0.4387 - val_loss: 1.4560 - val_accuracy: 0.4310\n",
            "\n",
            "Epoch 00022: val_accuracy did not improve from 0.44733\n",
            "Epoch 23/25\n",
            "439/439 [==============================] - 23s 52ms/step - loss: 1.4459 - accuracy: 0.4432 - val_loss: 1.4625 - val_accuracy: 0.4220\n",
            "\n",
            "Epoch 00023: val_accuracy did not improve from 0.44733\n",
            "Epoch 24/25\n",
            "439/439 [==============================] - 23s 52ms/step - loss: 1.4362 - accuracy: 0.4400 - val_loss: 1.4590 - val_accuracy: 0.4117\n",
            "\n",
            "Epoch 00024: val_accuracy did not improve from 0.44733\n",
            "Epoch 25/25\n",
            "439/439 [==============================] - 23s 53ms/step - loss: 1.4316 - accuracy: 0.4414 - val_loss: 1.4389 - val_accuracy: 0.4467\n",
            "\n",
            "Epoch 00025: val_accuracy did not improve from 0.44733\n",
            "SGD\n",
            "Epoch 1/25\n",
            "439/439 [==============================] - 26s 53ms/step - loss: 1.9134 - accuracy: 0.1785 - val_loss: 1.7536 - val_accuracy: 0.2093\n",
            "\n",
            "Epoch 00001: val_accuracy did not improve from 0.44733\n",
            "Epoch 2/25\n",
            "439/439 [==============================] - 23s 52ms/step - loss: 1.7474 - accuracy: 0.2378 - val_loss: 1.7155 - val_accuracy: 0.3063\n",
            "\n",
            "Epoch 00002: val_accuracy did not improve from 0.44733\n",
            "Epoch 3/25\n",
            "439/439 [==============================] - 23s 51ms/step - loss: 1.7088 - accuracy: 0.2903 - val_loss: 1.6844 - val_accuracy: 0.2693\n",
            "\n",
            "Epoch 00003: val_accuracy did not improve from 0.44733\n",
            "Epoch 4/25\n",
            "439/439 [==============================] - 23s 52ms/step - loss: 1.6786 - accuracy: 0.2899 - val_loss: 1.6490 - val_accuracy: 0.3123\n",
            "\n",
            "Epoch 00004: val_accuracy did not improve from 0.44733\n",
            "Epoch 5/25\n",
            "439/439 [==============================] - 23s 52ms/step - loss: 1.6523 - accuracy: 0.3434 - val_loss: 1.6530 - val_accuracy: 0.2923\n",
            "\n",
            "Epoch 00005: val_accuracy did not improve from 0.44733\n",
            "Epoch 6/25\n",
            "439/439 [==============================] - 23s 52ms/step - loss: 1.6321 - accuracy: 0.3410 - val_loss: 1.6099 - val_accuracy: 0.3683\n",
            "\n",
            "Epoch 00006: val_accuracy did not improve from 0.44733\n",
            "Epoch 7/25\n",
            "439/439 [==============================] - 22s 51ms/step - loss: 1.6048 - accuracy: 0.3764 - val_loss: 1.6095 - val_accuracy: 0.3910\n",
            "\n",
            "Epoch 00007: val_accuracy did not improve from 0.44733\n",
            "Epoch 8/25\n",
            "439/439 [==============================] - 23s 52ms/step - loss: 1.5930 - accuracy: 0.3761 - val_loss: 1.5851 - val_accuracy: 0.4187\n",
            "\n",
            "Epoch 00008: val_accuracy did not improve from 0.44733\n",
            "Epoch 9/25\n",
            "439/439 [==============================] - 23s 52ms/step - loss: 1.5725 - accuracy: 0.3906 - val_loss: 1.5771 - val_accuracy: 0.3917\n",
            "\n",
            "Epoch 00009: val_accuracy did not improve from 0.44733\n",
            "Epoch 10/25\n",
            "439/439 [==============================] - 23s 52ms/step - loss: 1.5626 - accuracy: 0.3916 - val_loss: 1.5536 - val_accuracy: 0.4120\n",
            "\n",
            "Epoch 00010: val_accuracy did not improve from 0.44733\n",
            "Epoch 11/25\n",
            "439/439 [==============================] - 23s 52ms/step - loss: 1.5485 - accuracy: 0.4001 - val_loss: 1.5480 - val_accuracy: 0.3803\n",
            "\n",
            "Epoch 00011: val_accuracy did not improve from 0.44733\n",
            "Epoch 12/25\n",
            "439/439 [==============================] - 23s 51ms/step - loss: 1.5374 - accuracy: 0.4041 - val_loss: 1.5494 - val_accuracy: 0.3933\n",
            "\n",
            "Epoch 00012: val_accuracy did not improve from 0.44733\n",
            "Epoch 13/25\n",
            "439/439 [==============================] - 23s 52ms/step - loss: 1.5223 - accuracy: 0.4161 - val_loss: 1.5302 - val_accuracy: 0.4113\n",
            "\n",
            "Epoch 00013: val_accuracy did not improve from 0.44733\n",
            "Epoch 14/25\n",
            "439/439 [==============================] - 23s 52ms/step - loss: 1.5150 - accuracy: 0.4117 - val_loss: 1.5245 - val_accuracy: 0.3977\n",
            "\n",
            "Epoch 00014: val_accuracy did not improve from 0.44733\n",
            "Epoch 15/25\n",
            "439/439 [==============================] - 23s 52ms/step - loss: 1.5022 - accuracy: 0.4215 - val_loss: 1.5201 - val_accuracy: 0.3897\n",
            "\n",
            "Epoch 00015: val_accuracy did not improve from 0.44733\n",
            "Epoch 16/25\n",
            "439/439 [==============================] - 23s 52ms/step - loss: 1.5000 - accuracy: 0.4246 - val_loss: 1.5165 - val_accuracy: 0.4043\n",
            "\n",
            "Epoch 00016: val_accuracy did not improve from 0.44733\n",
            "Epoch 17/25\n",
            "439/439 [==============================] - 23s 52ms/step - loss: 1.4876 - accuracy: 0.4273 - val_loss: 1.5153 - val_accuracy: 0.3880\n",
            "\n",
            "Epoch 00017: val_accuracy did not improve from 0.44733\n",
            "Epoch 18/25\n",
            "439/439 [==============================] - 23s 52ms/step - loss: 1.4866 - accuracy: 0.4251 - val_loss: 1.4902 - val_accuracy: 0.4250\n",
            "\n",
            "Epoch 00018: val_accuracy did not improve from 0.44733\n",
            "Epoch 19/25\n",
            "439/439 [==============================] - 23s 52ms/step - loss: 1.4916 - accuracy: 0.4165 - val_loss: 1.4821 - val_accuracy: 0.4510\n",
            "\n",
            "Epoch 00019: val_accuracy improved from 0.44733 to 0.45100, saving model to CheckPoints/best_model.h5\n",
            "Epoch 20/25\n",
            "439/439 [==============================] - 23s 52ms/step - loss: 1.4720 - accuracy: 0.4388 - val_loss: 1.4812 - val_accuracy: 0.4330\n",
            "\n",
            "Epoch 00020: val_accuracy did not improve from 0.45100\n",
            "Epoch 21/25\n",
            "439/439 [==============================] - 23s 52ms/step - loss: 1.4663 - accuracy: 0.4380 - val_loss: 1.4754 - val_accuracy: 0.4160\n",
            "\n",
            "Epoch 00021: val_accuracy did not improve from 0.45100\n",
            "Epoch 22/25\n",
            "439/439 [==============================] - 23s 52ms/step - loss: 1.4733 - accuracy: 0.4315 - val_loss: 1.4712 - val_accuracy: 0.4203\n",
            "\n",
            "Epoch 00022: val_accuracy did not improve from 0.45100\n",
            "Epoch 23/25\n",
            "439/439 [==============================] - 23s 52ms/step - loss: 1.4477 - accuracy: 0.4339 - val_loss: 1.4589 - val_accuracy: 0.4287\n",
            "\n",
            "Epoch 00023: val_accuracy did not improve from 0.45100\n",
            "Epoch 24/25\n",
            "439/439 [==============================] - 23s 52ms/step - loss: 1.4480 - accuracy: 0.4358 - val_loss: 1.4619 - val_accuracy: 0.4457\n",
            "\n",
            "Epoch 00024: val_accuracy did not improve from 0.45100\n",
            "Epoch 25/25\n",
            "439/439 [==============================] - 23s 52ms/step - loss: 1.4534 - accuracy: 0.4315 - val_loss: 1.4722 - val_accuracy: 0.4153\n",
            "\n",
            "Epoch 00025: val_accuracy did not improve from 0.45100\n",
            "SGD\n",
            "Epoch 1/25\n",
            "439/439 [==============================] - 26s 54ms/step - loss: 1.9018 - accuracy: 0.1729 - val_loss: 1.7762 - val_accuracy: 0.2250\n",
            "\n",
            "Epoch 00001: val_accuracy did not improve from 0.45100\n",
            "Epoch 2/25\n",
            "439/439 [==============================] - 23s 51ms/step - loss: 1.7561 - accuracy: 0.2409 - val_loss: 1.7219 - val_accuracy: 0.2660\n",
            "\n",
            "Epoch 00002: val_accuracy did not improve from 0.45100\n",
            "Epoch 3/25\n",
            "439/439 [==============================] - 23s 52ms/step - loss: 1.7157 - accuracy: 0.2883 - val_loss: 1.6940 - val_accuracy: 0.2957\n",
            "\n",
            "Epoch 00003: val_accuracy did not improve from 0.45100\n",
            "Epoch 4/25\n",
            "439/439 [==============================] - 23s 52ms/step - loss: 1.6808 - accuracy: 0.3300 - val_loss: 1.6592 - val_accuracy: 0.3650\n",
            "\n",
            "Epoch 00004: val_accuracy did not improve from 0.45100\n",
            "Epoch 5/25\n",
            "439/439 [==============================] - 23s 52ms/step - loss: 1.6528 - accuracy: 0.3441 - val_loss: 1.6627 - val_accuracy: 0.2710\n",
            "\n",
            "Epoch 00005: val_accuracy did not improve from 0.45100\n",
            "Epoch 6/25\n",
            "439/439 [==============================] - 23s 52ms/step - loss: 1.6299 - accuracy: 0.3421 - val_loss: 1.6188 - val_accuracy: 0.3790\n",
            "\n",
            "Epoch 00006: val_accuracy did not improve from 0.45100\n",
            "Epoch 7/25\n",
            "439/439 [==============================] - 23s 52ms/step - loss: 1.6094 - accuracy: 0.3696 - val_loss: 1.6148 - val_accuracy: 0.3767\n",
            "\n",
            "Epoch 00007: val_accuracy did not improve from 0.45100\n",
            "Epoch 8/25\n",
            "439/439 [==============================] - 23s 52ms/step - loss: 1.5937 - accuracy: 0.3773 - val_loss: 1.5692 - val_accuracy: 0.4223\n",
            "\n",
            "Epoch 00008: val_accuracy did not improve from 0.45100\n",
            "Epoch 9/25\n",
            "439/439 [==============================] - 23s 52ms/step - loss: 1.5755 - accuracy: 0.3904 - val_loss: 1.5651 - val_accuracy: 0.3927\n",
            "\n",
            "Epoch 00009: val_accuracy did not improve from 0.45100\n",
            "Epoch 10/25\n",
            "439/439 [==============================] - 23s 51ms/step - loss: 1.5596 - accuracy: 0.3961 - val_loss: 1.5557 - val_accuracy: 0.4107\n",
            "\n",
            "Epoch 00010: val_accuracy did not improve from 0.45100\n",
            "Epoch 11/25\n",
            "439/439 [==============================] - 23s 52ms/step - loss: 1.5480 - accuracy: 0.4006 - val_loss: 1.5540 - val_accuracy: 0.3793\n",
            "\n",
            "Epoch 00011: val_accuracy did not improve from 0.45100\n",
            "Epoch 12/25\n",
            "439/439 [==============================] - 23s 53ms/step - loss: 1.5397 - accuracy: 0.3986 - val_loss: 1.5353 - val_accuracy: 0.4303\n",
            "\n",
            "Epoch 00012: val_accuracy did not improve from 0.45100\n",
            "Epoch 13/25\n",
            "439/439 [==============================] - 23s 52ms/step - loss: 1.5257 - accuracy: 0.4135 - val_loss: 1.5505 - val_accuracy: 0.3720\n",
            "\n",
            "Epoch 00013: val_accuracy did not improve from 0.45100\n",
            "Epoch 14/25\n",
            "439/439 [==============================] - 23s 52ms/step - loss: 1.5240 - accuracy: 0.4172 - val_loss: 1.5236 - val_accuracy: 0.4043\n",
            "\n",
            "Epoch 00014: val_accuracy did not improve from 0.45100\n",
            "Epoch 15/25\n",
            "439/439 [==============================] - 23s 52ms/step - loss: 1.4998 - accuracy: 0.4233 - val_loss: 1.4997 - val_accuracy: 0.4313\n",
            "\n",
            "Epoch 00015: val_accuracy did not improve from 0.45100\n",
            "Epoch 16/25\n",
            "439/439 [==============================] - 23s 52ms/step - loss: 1.5130 - accuracy: 0.4062 - val_loss: 1.5113 - val_accuracy: 0.4250\n",
            "\n",
            "Epoch 00016: val_accuracy did not improve from 0.45100\n",
            "Epoch 17/25\n",
            "439/439 [==============================] - 23s 52ms/step - loss: 1.4954 - accuracy: 0.4290 - val_loss: 1.4968 - val_accuracy: 0.4130\n",
            "\n",
            "Epoch 00017: val_accuracy did not improve from 0.45100\n",
            "Epoch 18/25\n",
            "439/439 [==============================] - 23s 53ms/step - loss: 1.4827 - accuracy: 0.4293 - val_loss: 1.5034 - val_accuracy: 0.4343\n",
            "\n",
            "Epoch 00018: val_accuracy did not improve from 0.45100\n",
            "Epoch 19/25\n",
            "439/439 [==============================] - 23s 52ms/step - loss: 1.4841 - accuracy: 0.4214 - val_loss: 1.5036 - val_accuracy: 0.3887\n",
            "\n",
            "Epoch 00019: val_accuracy did not improve from 0.45100\n",
            "Epoch 20/25\n",
            "439/439 [==============================] - 23s 52ms/step - loss: 1.4822 - accuracy: 0.4240 - val_loss: 1.4830 - val_accuracy: 0.3937\n",
            "\n",
            "Epoch 00020: val_accuracy did not improve from 0.45100\n",
            "Epoch 21/25\n",
            "439/439 [==============================] - 23s 52ms/step - loss: 1.4736 - accuracy: 0.4301 - val_loss: 1.4840 - val_accuracy: 0.4310\n",
            "\n",
            "Epoch 00021: val_accuracy did not improve from 0.45100\n",
            "Epoch 22/25\n",
            "439/439 [==============================] - 23s 52ms/step - loss: 1.4751 - accuracy: 0.4340 - val_loss: 1.4544 - val_accuracy: 0.4233\n",
            "\n",
            "Epoch 00022: val_accuracy did not improve from 0.45100\n",
            "Epoch 23/25\n",
            "439/439 [==============================] - 23s 52ms/step - loss: 1.4615 - accuracy: 0.4288 - val_loss: 1.4709 - val_accuracy: 0.4283\n",
            "\n",
            "Epoch 00023: val_accuracy did not improve from 0.45100\n",
            "Epoch 24/25\n",
            "439/439 [==============================] - 23s 52ms/step - loss: 1.4543 - accuracy: 0.4449 - val_loss: 1.4805 - val_accuracy: 0.3640\n",
            "\n",
            "Epoch 00024: val_accuracy did not improve from 0.45100\n",
            "Epoch 25/25\n",
            "439/439 [==============================] - 23s 52ms/step - loss: 1.4491 - accuracy: 0.4395 - val_loss: 1.4821 - val_accuracy: 0.3913\n",
            "\n",
            "Epoch 00025: val_accuracy did not improve from 0.45100\n",
            "SGD\n",
            "Epoch 1/25\n",
            "439/439 [==============================] - 26s 54ms/step - loss: 1.9178 - accuracy: 0.1812 - val_loss: 1.7486 - val_accuracy: 0.2410\n",
            "\n",
            "Epoch 00001: val_accuracy did not improve from 0.45100\n",
            "Epoch 2/25\n",
            "439/439 [==============================] - 23s 52ms/step - loss: 1.7375 - accuracy: 0.2554 - val_loss: 1.7117 - val_accuracy: 0.3187\n",
            "\n",
            "Epoch 00002: val_accuracy did not improve from 0.45100\n",
            "Epoch 3/25\n",
            "439/439 [==============================] - 23s 53ms/step - loss: 1.7024 - accuracy: 0.2967 - val_loss: 1.6750 - val_accuracy: 0.2763\n",
            "\n",
            "Epoch 00003: val_accuracy did not improve from 0.45100\n",
            "Epoch 4/25\n",
            "439/439 [==============================] - 23s 52ms/step - loss: 1.6648 - accuracy: 0.3251 - val_loss: 1.6607 - val_accuracy: 0.2733\n",
            "\n",
            "Epoch 00004: val_accuracy did not improve from 0.45100\n",
            "Epoch 5/25\n",
            "439/439 [==============================] - 23s 52ms/step - loss: 1.6435 - accuracy: 0.3433 - val_loss: 1.6311 - val_accuracy: 0.3383\n",
            "\n",
            "Epoch 00005: val_accuracy did not improve from 0.45100\n",
            "Epoch 6/25\n",
            "439/439 [==============================] - 23s 52ms/step - loss: 1.6198 - accuracy: 0.3531 - val_loss: 1.6287 - val_accuracy: 0.3643\n",
            "\n",
            "Epoch 00006: val_accuracy did not improve from 0.45100\n",
            "Epoch 7/25\n",
            "439/439 [==============================] - 23s 52ms/step - loss: 1.6057 - accuracy: 0.3642 - val_loss: 1.5875 - val_accuracy: 0.3953\n",
            "\n",
            "Epoch 00007: val_accuracy did not improve from 0.45100\n",
            "Epoch 8/25\n",
            "439/439 [==============================] - 23s 51ms/step - loss: 1.5817 - accuracy: 0.3932 - val_loss: 1.5802 - val_accuracy: 0.3863\n",
            "\n",
            "Epoch 00008: val_accuracy did not improve from 0.45100\n",
            "Epoch 9/25\n",
            "439/439 [==============================] - 23s 52ms/step - loss: 1.5680 - accuracy: 0.3825 - val_loss: 1.5720 - val_accuracy: 0.3677\n",
            "\n",
            "Epoch 00009: val_accuracy did not improve from 0.45100\n",
            "Epoch 10/25\n",
            "439/439 [==============================] - 23s 52ms/step - loss: 1.5600 - accuracy: 0.3860 - val_loss: 1.5527 - val_accuracy: 0.4003\n",
            "\n",
            "Epoch 00010: val_accuracy did not improve from 0.45100\n",
            "Epoch 11/25\n",
            "439/439 [==============================] - 23s 52ms/step - loss: 1.5456 - accuracy: 0.3991 - val_loss: 1.5371 - val_accuracy: 0.3993\n",
            "\n",
            "Epoch 00011: val_accuracy did not improve from 0.45100\n",
            "Epoch 12/25\n",
            "439/439 [==============================] - 23s 52ms/step - loss: 1.5252 - accuracy: 0.4125 - val_loss: 1.5376 - val_accuracy: 0.4127\n",
            "\n",
            "Epoch 00012: val_accuracy did not improve from 0.45100\n",
            "Epoch 13/25\n",
            "439/439 [==============================] - 23s 52ms/step - loss: 1.5250 - accuracy: 0.4069 - val_loss: 1.5282 - val_accuracy: 0.3850\n",
            "\n",
            "Epoch 00013: val_accuracy did not improve from 0.45100\n",
            "Epoch 14/25\n",
            "439/439 [==============================] - 23s 52ms/step - loss: 1.5218 - accuracy: 0.3964 - val_loss: 1.5250 - val_accuracy: 0.3903\n",
            "\n",
            "Epoch 00014: val_accuracy did not improve from 0.45100\n",
            "Epoch 15/25\n",
            "439/439 [==============================] - 23s 52ms/step - loss: 1.5062 - accuracy: 0.4083 - val_loss: 1.5066 - val_accuracy: 0.4003\n",
            "\n",
            "Epoch 00015: val_accuracy did not improve from 0.45100\n",
            "Epoch 16/25\n",
            "439/439 [==============================] - 23s 53ms/step - loss: 1.4968 - accuracy: 0.4169 - val_loss: 1.5141 - val_accuracy: 0.3873\n",
            "\n",
            "Epoch 00016: val_accuracy did not improve from 0.45100\n",
            "Epoch 17/25\n",
            "439/439 [==============================] - 23s 53ms/step - loss: 1.4927 - accuracy: 0.4149 - val_loss: 1.5098 - val_accuracy: 0.3917\n",
            "\n",
            "Epoch 00017: val_accuracy did not improve from 0.45100\n",
            "Epoch 18/25\n",
            "439/439 [==============================] - 23s 52ms/step - loss: 1.4839 - accuracy: 0.4256 - val_loss: 1.4990 - val_accuracy: 0.4050\n",
            "\n",
            "Epoch 00018: val_accuracy did not improve from 0.45100\n",
            "Epoch 19/25\n",
            "439/439 [==============================] - 23s 52ms/step - loss: 1.4832 - accuracy: 0.4238 - val_loss: 1.4967 - val_accuracy: 0.4250\n",
            "\n",
            "Epoch 00019: val_accuracy did not improve from 0.45100\n",
            "Epoch 20/25\n",
            "439/439 [==============================] - 23s 53ms/step - loss: 1.4774 - accuracy: 0.4303 - val_loss: 1.4870 - val_accuracy: 0.4107\n",
            "\n",
            "Epoch 00020: val_accuracy did not improve from 0.45100\n",
            "Epoch 21/25\n",
            "439/439 [==============================] - 23s 52ms/step - loss: 1.4705 - accuracy: 0.4215 - val_loss: 1.4630 - val_accuracy: 0.4347\n",
            "\n",
            "Epoch 00021: val_accuracy did not improve from 0.45100\n",
            "Epoch 22/25\n",
            "439/439 [==============================] - 23s 53ms/step - loss: 1.4641 - accuracy: 0.4271 - val_loss: 1.4880 - val_accuracy: 0.4183\n",
            "\n",
            "Epoch 00022: val_accuracy did not improve from 0.45100\n",
            "Epoch 23/25\n",
            "439/439 [==============================] - 23s 53ms/step - loss: 1.4608 - accuracy: 0.4324 - val_loss: 1.4776 - val_accuracy: 0.4190\n",
            "\n",
            "Epoch 00023: val_accuracy did not improve from 0.45100\n",
            "Epoch 24/25\n",
            "439/439 [==============================] - 23s 52ms/step - loss: 1.4555 - accuracy: 0.4349 - val_loss: 1.4693 - val_accuracy: 0.4263\n",
            "\n",
            "Epoch 00024: val_accuracy did not improve from 0.45100\n",
            "Epoch 25/25\n",
            "439/439 [==============================] - 23s 53ms/step - loss: 1.4458 - accuracy: 0.4429 - val_loss: 1.4742 - val_accuracy: 0.4230\n",
            "\n",
            "Epoch 00025: val_accuracy did not improve from 0.45100\n",
            "RMS\n",
            "Epoch 1/25\n",
            "439/439 [==============================] - 26s 55ms/step - loss: 1.9924 - accuracy: 0.1697 - val_loss: 1.7569 - val_accuracy: 0.2567\n",
            "\n",
            "Epoch 00001: val_accuracy did not improve from 0.45100\n",
            "Epoch 2/25\n",
            "439/439 [==============================] - 23s 53ms/step - loss: 1.7487 - accuracy: 0.2613 - val_loss: 1.7144 - val_accuracy: 0.2900\n",
            "\n",
            "Epoch 00002: val_accuracy did not improve from 0.45100\n",
            "Epoch 3/25\n",
            "439/439 [==============================] - 23s 52ms/step - loss: 1.7079 - accuracy: 0.3040 - val_loss: 1.6795 - val_accuracy: 0.2997\n",
            "\n",
            "Epoch 00003: val_accuracy did not improve from 0.45100\n",
            "Epoch 4/25\n",
            "439/439 [==============================] - 23s 53ms/step - loss: 1.6726 - accuracy: 0.3372 - val_loss: 1.6541 - val_accuracy: 0.3650\n",
            "\n",
            "Epoch 00004: val_accuracy did not improve from 0.45100\n",
            "Epoch 5/25\n",
            "439/439 [==============================] - 23s 53ms/step - loss: 1.6427 - accuracy: 0.3705 - val_loss: 1.6285 - val_accuracy: 0.3803\n",
            "\n",
            "Epoch 00005: val_accuracy did not improve from 0.45100\n",
            "Epoch 6/25\n",
            "439/439 [==============================] - 23s 53ms/step - loss: 1.6222 - accuracy: 0.3726 - val_loss: 1.6007 - val_accuracy: 0.3743\n",
            "\n",
            "Epoch 00006: val_accuracy did not improve from 0.45100\n",
            "Epoch 7/25\n",
            "439/439 [==============================] - 23s 52ms/step - loss: 1.5909 - accuracy: 0.4020 - val_loss: 1.5887 - val_accuracy: 0.3893\n",
            "\n",
            "Epoch 00007: val_accuracy did not improve from 0.45100\n",
            "Epoch 8/25\n",
            "439/439 [==============================] - 23s 52ms/step - loss: 1.5745 - accuracy: 0.4081 - val_loss: 1.5671 - val_accuracy: 0.3943\n",
            "\n",
            "Epoch 00008: val_accuracy did not improve from 0.45100\n",
            "Epoch 9/25\n",
            "439/439 [==============================] - 23s 52ms/step - loss: 1.5622 - accuracy: 0.4039 - val_loss: 1.5556 - val_accuracy: 0.4017\n",
            "\n",
            "Epoch 00009: val_accuracy did not improve from 0.45100\n",
            "Epoch 10/25\n",
            "439/439 [==============================] - 23s 52ms/step - loss: 1.5485 - accuracy: 0.4193 - val_loss: 1.5483 - val_accuracy: 0.4097\n",
            "\n",
            "Epoch 00010: val_accuracy did not improve from 0.45100\n",
            "Epoch 11/25\n",
            "439/439 [==============================] - 23s 53ms/step - loss: 1.5281 - accuracy: 0.4236 - val_loss: 1.5263 - val_accuracy: 0.4180\n",
            "\n",
            "Epoch 00011: val_accuracy did not improve from 0.45100\n",
            "Epoch 12/25\n",
            "439/439 [==============================] - 23s 53ms/step - loss: 1.5287 - accuracy: 0.4121 - val_loss: 1.5228 - val_accuracy: 0.4173\n",
            "\n",
            "Epoch 00012: val_accuracy did not improve from 0.45100\n",
            "Epoch 13/25\n",
            "439/439 [==============================] - 23s 53ms/step - loss: 1.5123 - accuracy: 0.4235 - val_loss: 1.5148 - val_accuracy: 0.4203\n",
            "\n",
            "Epoch 00013: val_accuracy did not improve from 0.45100\n",
            "Epoch 14/25\n",
            "439/439 [==============================] - 23s 53ms/step - loss: 1.5001 - accuracy: 0.4301 - val_loss: 1.5077 - val_accuracy: 0.4303\n",
            "\n",
            "Epoch 00014: val_accuracy did not improve from 0.45100\n",
            "Epoch 15/25\n",
            "439/439 [==============================] - 23s 53ms/step - loss: 1.4884 - accuracy: 0.4256 - val_loss: 1.4909 - val_accuracy: 0.4287\n",
            "\n",
            "Epoch 00015: val_accuracy did not improve from 0.45100\n",
            "Epoch 16/25\n",
            "439/439 [==============================] - 23s 53ms/step - loss: 1.4826 - accuracy: 0.4383 - val_loss: 1.4879 - val_accuracy: 0.4100\n",
            "\n",
            "Epoch 00016: val_accuracy did not improve from 0.45100\n",
            "Epoch 17/25\n",
            "439/439 [==============================] - 23s 53ms/step - loss: 1.4836 - accuracy: 0.4307 - val_loss: 1.4807 - val_accuracy: 0.4293\n",
            "\n",
            "Epoch 00017: val_accuracy did not improve from 0.45100\n",
            "Epoch 18/25\n",
            "439/439 [==============================] - 23s 53ms/step - loss: 1.4638 - accuracy: 0.4349 - val_loss: 1.4782 - val_accuracy: 0.4270\n",
            "\n",
            "Epoch 00018: val_accuracy did not improve from 0.45100\n",
            "Epoch 19/25\n",
            "439/439 [==============================] - 23s 52ms/step - loss: 1.4625 - accuracy: 0.4380 - val_loss: 1.4740 - val_accuracy: 0.4343\n",
            "\n",
            "Epoch 00019: val_accuracy did not improve from 0.45100\n",
            "Epoch 20/25\n",
            "439/439 [==============================] - 23s 53ms/step - loss: 1.4551 - accuracy: 0.4440 - val_loss: 1.4620 - val_accuracy: 0.4320\n",
            "\n",
            "Epoch 00020: val_accuracy did not improve from 0.45100\n",
            "Epoch 21/25\n",
            "439/439 [==============================] - 23s 52ms/step - loss: 1.4467 - accuracy: 0.4445 - val_loss: 1.4503 - val_accuracy: 0.4380\n",
            "\n",
            "Epoch 00021: val_accuracy did not improve from 0.45100\n",
            "Epoch 22/25\n",
            "439/439 [==============================] - 23s 52ms/step - loss: 1.4377 - accuracy: 0.4473 - val_loss: 1.4482 - val_accuracy: 0.4400\n",
            "\n",
            "Epoch 00022: val_accuracy did not improve from 0.45100\n",
            "Epoch 23/25\n",
            "439/439 [==============================] - 23s 52ms/step - loss: 1.4317 - accuracy: 0.4521 - val_loss: 1.4413 - val_accuracy: 0.4220\n",
            "\n",
            "Epoch 00023: val_accuracy did not improve from 0.45100\n",
            "Epoch 24/25\n",
            "439/439 [==============================] - 23s 53ms/step - loss: 1.4317 - accuracy: 0.4509 - val_loss: 1.4521 - val_accuracy: 0.4373\n",
            "\n",
            "Epoch 00024: val_accuracy did not improve from 0.45100\n",
            "Epoch 25/25\n",
            "439/439 [==============================] - 23s 52ms/step - loss: 1.4184 - accuracy: 0.4625 - val_loss: 1.4357 - val_accuracy: 0.4433\n",
            "\n",
            "Epoch 00025: val_accuracy did not improve from 0.45100\n",
            "RMS\n",
            "Epoch 1/25\n",
            "439/439 [==============================] - 26s 55ms/step - loss: 2.0774 - accuracy: 0.1854 - val_loss: 1.7560 - val_accuracy: 0.2613\n",
            "\n",
            "Epoch 00001: val_accuracy did not improve from 0.45100\n",
            "Epoch 2/25\n",
            "439/439 [==============================] - 23s 53ms/step - loss: 1.7414 - accuracy: 0.2676 - val_loss: 1.7133 - val_accuracy: 0.3313\n",
            "\n",
            "Epoch 00002: val_accuracy did not improve from 0.45100\n",
            "Epoch 3/25\n",
            "439/439 [==============================] - 23s 52ms/step - loss: 1.7030 - accuracy: 0.3127 - val_loss: 1.6812 - val_accuracy: 0.3470\n",
            "\n",
            "Epoch 00003: val_accuracy did not improve from 0.45100\n",
            "Epoch 4/25\n",
            "439/439 [==============================] - 23s 52ms/step - loss: 1.6671 - accuracy: 0.3581 - val_loss: 1.6491 - val_accuracy: 0.3740\n",
            "\n",
            "Epoch 00004: val_accuracy did not improve from 0.45100\n",
            "Epoch 5/25\n",
            "439/439 [==============================] - 23s 53ms/step - loss: 1.6382 - accuracy: 0.3634 - val_loss: 1.6222 - val_accuracy: 0.3847\n",
            "\n",
            "Epoch 00005: val_accuracy did not improve from 0.45100\n",
            "Epoch 6/25\n",
            "439/439 [==============================] - 23s 52ms/step - loss: 1.6185 - accuracy: 0.3765 - val_loss: 1.6095 - val_accuracy: 0.3853\n",
            "\n",
            "Epoch 00006: val_accuracy did not improve from 0.45100\n",
            "Epoch 7/25\n",
            "439/439 [==============================] - 23s 53ms/step - loss: 1.5913 - accuracy: 0.3938 - val_loss: 1.5888 - val_accuracy: 0.3753\n",
            "\n",
            "Epoch 00007: val_accuracy did not improve from 0.45100\n",
            "Epoch 8/25\n",
            "439/439 [==============================] - 23s 53ms/step - loss: 1.5792 - accuracy: 0.3951 - val_loss: 1.5759 - val_accuracy: 0.3813\n",
            "\n",
            "Epoch 00008: val_accuracy did not improve from 0.45100\n",
            "Epoch 9/25\n",
            "439/439 [==============================] - 23s 53ms/step - loss: 1.5514 - accuracy: 0.4167 - val_loss: 1.5556 - val_accuracy: 0.4013\n",
            "\n",
            "Epoch 00009: val_accuracy did not improve from 0.45100\n",
            "Epoch 10/25\n",
            "439/439 [==============================] - 23s 52ms/step - loss: 1.5449 - accuracy: 0.4105 - val_loss: 1.5496 - val_accuracy: 0.3977\n",
            "\n",
            "Epoch 00010: val_accuracy did not improve from 0.45100\n",
            "Epoch 11/25\n",
            "439/439 [==============================] - 23s 53ms/step - loss: 1.5344 - accuracy: 0.4139 - val_loss: 1.5423 - val_accuracy: 0.4093\n",
            "\n",
            "Epoch 00011: val_accuracy did not improve from 0.45100\n",
            "Epoch 12/25\n",
            "439/439 [==============================] - 23s 52ms/step - loss: 1.5220 - accuracy: 0.4119 - val_loss: 1.5289 - val_accuracy: 0.3920\n",
            "\n",
            "Epoch 00012: val_accuracy did not improve from 0.45100\n",
            "Epoch 13/25\n",
            "439/439 [==============================] - 23s 53ms/step - loss: 1.5040 - accuracy: 0.4244 - val_loss: 1.5146 - val_accuracy: 0.4247\n",
            "\n",
            "Epoch 00013: val_accuracy did not improve from 0.45100\n",
            "Epoch 14/25\n",
            "439/439 [==============================] - 23s 53ms/step - loss: 1.5086 - accuracy: 0.4177 - val_loss: 1.5085 - val_accuracy: 0.4097\n",
            "\n",
            "Epoch 00014: val_accuracy did not improve from 0.45100\n",
            "Epoch 15/25\n",
            "439/439 [==============================] - 23s 53ms/step - loss: 1.4848 - accuracy: 0.4304 - val_loss: 1.4974 - val_accuracy: 0.4260\n",
            "\n",
            "Epoch 00015: val_accuracy did not improve from 0.45100\n",
            "Epoch 16/25\n",
            "439/439 [==============================] - 23s 53ms/step - loss: 1.4828 - accuracy: 0.4362 - val_loss: 1.4942 - val_accuracy: 0.4307\n",
            "\n",
            "Epoch 00016: val_accuracy did not improve from 0.45100\n",
            "Epoch 17/25\n",
            "439/439 [==============================] - 23s 52ms/step - loss: 1.4761 - accuracy: 0.4375 - val_loss: 1.4858 - val_accuracy: 0.4233\n",
            "\n",
            "Epoch 00017: val_accuracy did not improve from 0.45100\n",
            "Epoch 18/25\n",
            "439/439 [==============================] - 23s 53ms/step - loss: 1.4679 - accuracy: 0.4398 - val_loss: 1.4826 - val_accuracy: 0.4207\n",
            "\n",
            "Epoch 00018: val_accuracy did not improve from 0.45100\n",
            "Epoch 19/25\n",
            "439/439 [==============================] - 23s 53ms/step - loss: 1.4615 - accuracy: 0.4355 - val_loss: 1.4772 - val_accuracy: 0.4340\n",
            "\n",
            "Epoch 00019: val_accuracy did not improve from 0.45100\n",
            "Epoch 20/25\n",
            "439/439 [==============================] - 23s 52ms/step - loss: 1.4595 - accuracy: 0.4315 - val_loss: 1.4625 - val_accuracy: 0.4317\n",
            "\n",
            "Epoch 00020: val_accuracy did not improve from 0.45100\n",
            "Epoch 21/25\n",
            "439/439 [==============================] - 23s 53ms/step - loss: 1.4467 - accuracy: 0.4426 - val_loss: 1.4685 - val_accuracy: 0.4157\n",
            "\n",
            "Epoch 00021: val_accuracy did not improve from 0.45100\n",
            "Epoch 22/25\n",
            "439/439 [==============================] - 23s 52ms/step - loss: 1.4502 - accuracy: 0.4394 - val_loss: 1.4647 - val_accuracy: 0.4247\n",
            "\n",
            "Epoch 00022: val_accuracy did not improve from 0.45100\n",
            "Epoch 23/25\n",
            "439/439 [==============================] - 23s 52ms/step - loss: 1.4330 - accuracy: 0.4427 - val_loss: 1.4528 - val_accuracy: 0.4400\n",
            "\n",
            "Epoch 00023: val_accuracy did not improve from 0.45100\n",
            "Epoch 24/25\n",
            "439/439 [==============================] - 23s 52ms/step - loss: 1.4317 - accuracy: 0.4459 - val_loss: 1.4406 - val_accuracy: 0.4407\n",
            "\n",
            "Epoch 00024: val_accuracy did not improve from 0.45100\n",
            "Epoch 25/25\n",
            "439/439 [==============================] - 23s 53ms/step - loss: 1.4281 - accuracy: 0.4472 - val_loss: 1.4377 - val_accuracy: 0.4267\n",
            "\n",
            "Epoch 00025: val_accuracy did not improve from 0.45100\n",
            "RMS\n",
            "Epoch 1/25\n",
            "439/439 [==============================] - 27s 54ms/step - loss: 2.2243 - accuracy: 0.1846 - val_loss: 1.7541 - val_accuracy: 0.2333\n",
            "\n",
            "Epoch 00001: val_accuracy did not improve from 0.45100\n",
            "Epoch 2/25\n",
            "439/439 [==============================] - 23s 53ms/step - loss: 1.7423 - accuracy: 0.2646 - val_loss: 1.7191 - val_accuracy: 0.2747\n",
            "\n",
            "Epoch 00002: val_accuracy did not improve from 0.45100\n",
            "Epoch 3/25\n",
            "439/439 [==============================] - 23s 53ms/step - loss: 1.7057 - accuracy: 0.2944 - val_loss: 1.6870 - val_accuracy: 0.3240\n",
            "\n",
            "Epoch 00003: val_accuracy did not improve from 0.45100\n",
            "Epoch 4/25\n",
            "439/439 [==============================] - 23s 52ms/step - loss: 1.6728 - accuracy: 0.3232 - val_loss: 1.6620 - val_accuracy: 0.3500\n",
            "\n",
            "Epoch 00004: val_accuracy did not improve from 0.45100\n",
            "Epoch 5/25\n",
            "439/439 [==============================] - 23s 52ms/step - loss: 1.6475 - accuracy: 0.3583 - val_loss: 1.6395 - val_accuracy: 0.3577\n",
            "\n",
            "Epoch 00005: val_accuracy did not improve from 0.45100\n",
            "Epoch 6/25\n",
            "439/439 [==============================] - 23s 53ms/step - loss: 1.6214 - accuracy: 0.3708 - val_loss: 1.6148 - val_accuracy: 0.3573\n",
            "\n",
            "Epoch 00006: val_accuracy did not improve from 0.45100\n",
            "Epoch 7/25\n",
            "439/439 [==============================] - 23s 53ms/step - loss: 1.6019 - accuracy: 0.3759 - val_loss: 1.6011 - val_accuracy: 0.3770\n",
            "\n",
            "Epoch 00007: val_accuracy did not improve from 0.45100\n",
            "Epoch 8/25\n",
            "439/439 [==============================] - 23s 53ms/step - loss: 1.5767 - accuracy: 0.4051 - val_loss: 1.5756 - val_accuracy: 0.3857\n",
            "\n",
            "Epoch 00008: val_accuracy did not improve from 0.45100\n",
            "Epoch 9/25\n",
            "439/439 [==============================] - 23s 52ms/step - loss: 1.5615 - accuracy: 0.4147 - val_loss: 1.5578 - val_accuracy: 0.4070\n",
            "\n",
            "Epoch 00009: val_accuracy did not improve from 0.45100\n",
            "Epoch 10/25\n",
            "439/439 [==============================] - 23s 52ms/step - loss: 1.5496 - accuracy: 0.4153 - val_loss: 1.5487 - val_accuracy: 0.4027\n",
            "\n",
            "Epoch 00010: val_accuracy did not improve from 0.45100\n",
            "Epoch 11/25\n",
            "439/439 [==============================] - 23s 53ms/step - loss: 1.5312 - accuracy: 0.4147 - val_loss: 1.5278 - val_accuracy: 0.4177\n",
            "\n",
            "Epoch 00011: val_accuracy did not improve from 0.45100\n",
            "Epoch 12/25\n",
            "439/439 [==============================] - 23s 53ms/step - loss: 1.5239 - accuracy: 0.4211 - val_loss: 1.5359 - val_accuracy: 0.4053\n",
            "\n",
            "Epoch 00012: val_accuracy did not improve from 0.45100\n",
            "Epoch 13/25\n",
            "439/439 [==============================] - 23s 53ms/step - loss: 1.5161 - accuracy: 0.4142 - val_loss: 1.5183 - val_accuracy: 0.4060\n",
            "\n",
            "Epoch 00013: val_accuracy did not improve from 0.45100\n",
            "Epoch 14/25\n",
            "439/439 [==============================] - 23s 53ms/step - loss: 1.5075 - accuracy: 0.4163 - val_loss: 1.5059 - val_accuracy: 0.4243\n",
            "\n",
            "Epoch 00014: val_accuracy did not improve from 0.45100\n",
            "Epoch 15/25\n",
            "439/439 [==============================] - 23s 53ms/step - loss: 1.4934 - accuracy: 0.4244 - val_loss: 1.5004 - val_accuracy: 0.4157\n",
            "\n",
            "Epoch 00015: val_accuracy did not improve from 0.45100\n",
            "Epoch 16/25\n",
            "439/439 [==============================] - 23s 53ms/step - loss: 1.4794 - accuracy: 0.4351 - val_loss: 1.4952 - val_accuracy: 0.4147\n",
            "\n",
            "Epoch 00016: val_accuracy did not improve from 0.45100\n",
            "Epoch 17/25\n",
            "439/439 [==============================] - 23s 53ms/step - loss: 1.4787 - accuracy: 0.4353 - val_loss: 1.4997 - val_accuracy: 0.4207\n",
            "\n",
            "Epoch 00017: val_accuracy did not improve from 0.45100\n",
            "Epoch 18/25\n",
            "439/439 [==============================] - 23s 53ms/step - loss: 1.4663 - accuracy: 0.4407 - val_loss: 1.4809 - val_accuracy: 0.4180\n",
            "\n",
            "Epoch 00018: val_accuracy did not improve from 0.45100\n",
            "Epoch 19/25\n",
            "439/439 [==============================] - 23s 53ms/step - loss: 1.4667 - accuracy: 0.4383 - val_loss: 1.4716 - val_accuracy: 0.4260\n",
            "\n",
            "Epoch 00019: val_accuracy did not improve from 0.45100\n",
            "Epoch 20/25\n",
            "439/439 [==============================] - 23s 53ms/step - loss: 1.4586 - accuracy: 0.4275 - val_loss: 1.4732 - val_accuracy: 0.4320\n",
            "\n",
            "Epoch 00020: val_accuracy did not improve from 0.45100\n",
            "Epoch 21/25\n",
            "439/439 [==============================] - 23s 52ms/step - loss: 1.4471 - accuracy: 0.4440 - val_loss: 1.4649 - val_accuracy: 0.4297\n",
            "\n",
            "Epoch 00021: val_accuracy did not improve from 0.45100\n",
            "Epoch 22/25\n",
            "439/439 [==============================] - 23s 53ms/step - loss: 1.4453 - accuracy: 0.4461 - val_loss: 1.4603 - val_accuracy: 0.4280\n",
            "\n",
            "Epoch 00022: val_accuracy did not improve from 0.45100\n",
            "Epoch 23/25\n",
            "439/439 [==============================] - 23s 52ms/step - loss: 1.4416 - accuracy: 0.4461 - val_loss: 1.4535 - val_accuracy: 0.4300\n",
            "\n",
            "Epoch 00023: val_accuracy did not improve from 0.45100\n",
            "Epoch 24/25\n",
            "439/439 [==============================] - 23s 53ms/step - loss: 1.4317 - accuracy: 0.4479 - val_loss: 1.4500 - val_accuracy: 0.4300\n",
            "\n",
            "Epoch 00024: val_accuracy did not improve from 0.45100\n",
            "Epoch 25/25\n",
            "439/439 [==============================] - 23s 52ms/step - loss: 1.4299 - accuracy: 0.4508 - val_loss: 1.4290 - val_accuracy: 0.4397\n",
            "\n",
            "Epoch 00025: val_accuracy did not improve from 0.45100\n"
          ],
          "name": "stdout"
        }
      ]
    },
    {
      "cell_type": "markdown",
      "metadata": {
        "id": "RaL-2rk3_LIy"
      },
      "source": [
        "<h2> Evaluate the Model </h2>\r\n",
        "Model is evaluated on the weights that produced the highest validation accuracy. These weights were stored during training.\r\n"
      ]
    },
    {
      "cell_type": "code",
      "metadata": {
        "colab": {
          "base_uri": "https://localhost:8080/"
        },
        "id": "K4x1msUSvyEx",
        "outputId": "66c27c14-fe0e-42cd-f664-8c29b3aa2630"
      },
      "source": [
        "\r\n",
        "saved_model = load_model('CheckPoints/ResNet-like-Aug-TL-model.h5')\r\n",
        "# evaluate the model\r\n",
        "_, train_acc = saved_model.evaluate_generator(train_generator, verbose=0)\r\n",
        "_, val_acc = saved_model.evaluate_generator(validate_generator, verbose=0)\r\n",
        "_, test_acc = saved_model.evaluate_generator(test_generator, verbose=0)\r\n",
        "print('Train: %.3f,Val: %.3f, Test: %.3f' % (train_acc, val_acc,  test_acc))"
      ],
      "execution_count": 20,
      "outputs": [
        {
          "output_type": "stream",
          "text": [
            "/usr/local/lib/python3.6/dist-packages/tensorflow/python/keras/engine/training.py:1877: UserWarning: `Model.evaluate_generator` is deprecated and will be removed in a future version. Please use `Model.evaluate`, which supports generators.\n",
            "  warnings.warn('`Model.evaluate_generator` is deprecated and '\n"
          ],
          "name": "stderr"
        },
        {
          "output_type": "stream",
          "text": [
            "Train: 0.453,Val: 0.457, Test: 0.466\n"
          ],
          "name": "stdout"
        }
      ]
    },
    {
      "cell_type": "markdown",
      "metadata": {
        "id": "zfSlpnf1_k-W"
      },
      "source": [
        "<h2> Plotting Training and Validation accuracy of different optimizers </h2>"
      ]
    },
    {
      "cell_type": "code",
      "metadata": {
        "id": "eccYegnUIJrM",
        "colab": {
          "base_uri": "https://localhost:8080/",
          "height": 295
        },
        "outputId": "ba61d405-2fc1-4506-80c9-68fd4d459a3d"
      },
      "source": [
        "\r\n",
        "History =0\r\n",
        "History = History2\r\n",
        "acc = History.history['accuracy']\r\n",
        "val_acc = History.history['val_accuracy']\r\n",
        "\r\n",
        "epochs = range(len(acc))\r\n",
        "plt.xlabel('Epochs (Early Stopping)')\r\n",
        "plt.ylabel('Accuracy')\r\n",
        "plt.title('Data Augmentation and Transfer Learning using ResNet50 Accuracy')\r\n",
        "\r\n",
        "plt.plot(epochs, acc, label='Adam Training acc')\r\n",
        "plt.plot(epochs, val_acc, label='Adam Validation acc')\r\n",
        "\r\n",
        "History =0\r\n",
        "History = History4\r\n",
        "acc = History.history['accuracy']\r\n",
        "val_acc = History.history['val_accuracy']\r\n",
        "epochs = range(len(acc))\r\n",
        "plt.plot(epochs, acc, label='SGD Training acc')\r\n",
        "plt.plot(epochs, val_acc, label='SGD Validation acc')\r\n",
        "\r\n",
        "\r\n",
        "\r\n",
        "History =0\r\n",
        "History = History7\r\n",
        "acc = History.history['accuracy']\r\n",
        "val_acc = History.history['val_accuracy']\r\n",
        "epochs = range(len(acc))\r\n",
        "plt.plot(epochs, acc, label='RMS Training acc')\r\n",
        "plt.plot(epochs, val_acc, label='RMS Validation acc')\r\n",
        "plt.legend()\r\n",
        "plt.savefig(\"Results/DataAugResNet50Historyacc.png\")\r\n",
        "\r\n"
      ],
      "execution_count": 25,
      "outputs": [
        {
          "output_type": "display_data",
          "data": {
            "image/png": "[encoded data removed]",
            "text/plain": [
              "<Figure size 432x288 with 1 Axes>"
            ]
          },
          "metadata": {
            "tags": [],
            "needs_background": "light"
          }
        }
      ]
    },
    {
      "cell_type": "markdown",
      "metadata": {
        "id": "CprdBzO3ACc2"
      },
      "source": [
        "<h2> Plotting Training and Validation accuracy of different optimizers </h2>"
      ]
    },
    {
      "cell_type": "code",
      "metadata": {
        "colab": {
          "base_uri": "https://localhost:8080/",
          "height": 313
        },
        "id": "Iq6mchm4JdiX",
        "outputId": "52582be7-7155-47dd-8154-b05d0f3b3195"
      },
      "source": [
        "\r\n",
        "History =0\r\n",
        "History = History3\r\n",
        "loss = History.history['loss']\r\n",
        "val_loss = History.history['val_loss']\r\n",
        "\r\n",
        "epochs = range(len(loss))\r\n",
        "plt.xlabel('Epochs (Early Stopping)')\r\n",
        "plt.ylabel('Loss')\r\n",
        "plt.title('Data Augmentation and Transfer Learning using ResNet50 Losses')\r\n",
        "\r\n",
        "plt.plot(epochs, loss, label='Adam Training loss')\r\n",
        "plt.plot(epochs, val_loss, label='Adam Validation loss')\r\n",
        "\r\n",
        "History =0\r\n",
        "History = History5\r\n",
        "loss = History.history['loss']\r\n",
        "val_loss = History.history['val_loss']\r\n",
        "epochs = range(len(loss))\r\n",
        "plt.plot(epochs, loss, label='SGD Training loss')\r\n",
        "plt.plot(epochs, val_loss, label='SGD Validation loss')\r\n",
        "\r\n",
        "\r\n",
        "\r\n",
        "History =0\r\n",
        "History = History7\r\n",
        "loss = History.history['loss']\r\n",
        "val_loss = History.history['val_loss']\r\n",
        "epochs = range(len(loss))\r\n",
        "plt.plot(epochs, loss, label='RMS Training loss')\r\n",
        "plt.plot(epochs, val_loss, label='RMS Validation loss')\r\n",
        "plt.savefig(\"Results/DataAugResNet50Historyloss.png\")\r\n",
        "plt.legend()\r\n"
      ],
      "execution_count": 24,
      "outputs": [
        {
          "output_type": "execute_result",
          "data": {
            "text/plain": [
              "<matplotlib.legend.Legend at 0x7f7c5c76ff28>"
            ]
          },
          "metadata": {
            "tags": []
          },
          "execution_count": 24
        },
        {
          "output_type": "display_data",
          "data": {
            "image/png": "[encoded data removed]",
            "text/plain": [
              "<Figure size 432x288 with 1 Axes>"
            ]
          },
          "metadata": {
            "tags": [],
            "needs_background": "light"
          }
        }
      ]
    },
    {
      "cell_type": "markdown",
      "metadata": {
        "id": "oRK5baMKA-zT"
      },
      "source": [
        "<h2> Predict on Unseen Images </h2>\r\n"
      ]
    },
    {
      "cell_type": "code",
      "metadata": {
        "colab": {
          "base_uri": "https://localhost:8080/"
        },
        "id": "vp7aJk_qBGB8",
        "outputId": "15edf115-95fc-4157-ce7d-3d32d420d0b0"
      },
      "source": [
        "\r\n",
        "saved_model = load_model('CheckPoints/ResNet-like-Aug-TL-model.h5')\r\n",
        "predY = saved_model.predict_generator(test_generator)"
      ],
      "execution_count": 27,
      "outputs": [
        {
          "output_type": "stream",
          "text": [
            "/usr/local/lib/python3.6/dist-packages/tensorflow/python/keras/engine/training.py:1905: UserWarning: `Model.predict_generator` is deprecated and will be removed in a future version. Please use `Model.predict`, which supports generators.\n",
            "  warnings.warn('`Model.predict_generator` is deprecated and '\n"
          ],
          "name": "stderr"
        }
      ]
    },
    {
      "cell_type": "markdown",
      "metadata": {
        "id": "dhWil8XrBOLj"
      },
      "source": [
        "<h2> Confusion Matrix </h2>"
      ]
    },
    {
      "cell_type": "code",
      "metadata": {
        "colab": {
          "base_uri": "https://localhost:8080/"
        },
        "id": "5N3ZP4tPBNVv",
        "outputId": "9f6802a0-a11d-4944-b642-945eca0c3d95"
      },
      "source": [
        "\r\n",
        "predY_classes = predY.argmax(1)\r\n",
        "confusion_matrix = pd.crosstab(test_generator.classes, predY_classes,margins=True)\r\n",
        "print(\"Confusion matrix:\\n%s\" % confusion_matrix)"
      ],
      "execution_count": 28,
      "outputs": [
        {
          "output_type": "stream",
          "text": [
            "Confusion matrix:\n",
            "col_0    0     1     2     3    4     5   All\n",
            "row_0                                        \n",
            "0       90   252   255   267   72   208  1144\n",
            "1       96   261   241   282   96   190  1166\n",
            "2      111   316   310   305   94   194  1330\n",
            "3      108   278   290   295  100   226  1297\n",
            "4       84   270   220   272   83   199  1128\n",
            "5       99   278   250   316   91   202  1236\n",
            "All    588  1655  1566  1737  536  1219  7301\n"
          ],
          "name": "stdout"
        }
      ]
    },
    {
      "cell_type": "code",
      "metadata": {
        "colab": {
          "base_uri": "https://localhost:8080/"
        },
        "id": "HEw5Qlu0sSSM",
        "outputId": "e34acb11-3ef3-4aeb-d9e4-5cce2276595a"
      },
      "source": [
        "\r\n",
        "predY_classes = predY.argmax(1)\r\n",
        "confusion_matrix = pd.crosstab(test_generator.classes, predY_classes,margins=True)\r\n",
        "print(\"Confusion matrix:\\n%s\" % confusion_matrix)"
      ],
      "execution_count": 29,
      "outputs": [
        {
          "output_type": "stream",
          "text": [
            "Confusion matrix:\n",
            "col_0    0     1     2     3    4     5   All\n",
            "row_0                                        \n",
            "0       90   252   255   267   72   208  1144\n",
            "1       96   261   241   282   96   190  1166\n",
            "2      111   316   310   305   94   194  1330\n",
            "3      108   278   290   295  100   226  1297\n",
            "4       84   270   220   272   83   199  1128\n",
            "5       99   278   250   316   91   202  1236\n",
            "All    588  1655  1566  1737  536  1219  7301\n"
          ],
          "name": "stdout"
        }
      ]
    },
    {
      "cell_type": "code",
      "metadata": {
        "colab": {
          "base_uri": "https://localhost:8080/",
          "height": 255
        },
        "id": "bF6VlT26_E4p",
        "outputId": "99cc1998-bebb-4431-8997-ddea541a91d6"
      },
      "source": [
        "def plot_confusion_matrix(df_confusion, title='Confusion matrix', cmap=plt.cm.YlOrRd):\r\n",
        "  plt.matshow(df_confusion) # imshow\r\n",
        "  plt.colorbar()\r\n",
        "  tick_marks = np.arange(len(df_confusion.columns))\r\n",
        "  plt.xticks(tick_marks, df_confusion.columns, rotation=45)\r\n",
        "  plt.yticks(tick_marks, df_confusion.index)\r\n",
        "  plt.ylabel(\"Actual\")\r\n",
        "  plt.xlabel(\"Predicted\")\r\n",
        "  plt.savefig(\"Results/DataAugResnet50Augconfusion.jpg\")\r\n",
        "#call function\r\n",
        "plot_confusion_matrix(confusion_matrix)"
      ],
      "execution_count": 30,
      "outputs": [
        {
          "output_type": "display_data",
          "data": {
            "image/png": "[encoded data removed]",
            "text/plain": [
              "<Figure size 288x288 with 2 Axes>"
            ]
          },
          "metadata": {
            "tags": [],
            "needs_background": "light"
          }
        }
      ]
    },
    {
      "cell_type": "code",
      "metadata": {
        "id": "koGfz7kb_21C"
      },
      "source": [
        ""
      ],
      "execution_count": null,
      "outputs": []
    }
  ]
}